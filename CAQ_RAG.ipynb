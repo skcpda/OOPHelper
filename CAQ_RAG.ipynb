{
 "cells": [
  {
   "cell_type": "markdown",
   "source": [
    "#Create a Question Component - creates JAVA problems for practicing and evaluates and provides feedback for the same."
   ],
   "metadata": {
    "collapsed": false
   }
  },
  {
   "cell_type": "code",
   "execution_count": 0,
   "outputs": [],
   "source": [
    "from langchain.chains import LLMChain\n",
    "from langchain.prompts import PromptTemplate\n",
    "from langchain.llms.cohere import Cohere\n",
    "from langchain.vectorstores import FAISS\n",
    "from langchain.embeddings import CohereEmbeddings\n",
    "from langchain.vectorstores import FAISS\n",
    "import os\n",
    "import numpy as np\n",
    "from langchain.document_loaders import DirectoryLoader"
   ],
   "metadata": {
    "collapsed": false
   }
  },
  {
   "cell_type": "code",
   "execution_count": 0,
   "outputs": [],
   "source": [
    "# Initialize Cohere LLM\n",
    "cohere_llm = Cohere(cohere_api_key=\"9rZaWYoS4JsQMcOMZjozd66X0DqbStcRVe8LimVQ\", model=\"command-r-plus\")"
   ],
   "metadata": {
    "collapsed": false
   }
  },
  {
   "cell_type": "code",
   "execution_count": 0,
   "outputs": [],
   "source": [
    "# Set up the retrieval function (simulate retrieving related resources)\n",
    "def retrieve_relevant_info(query):\n",
    "    \"\"\"\n",
    "    Simulate retrieval of related information (e.g., previous problems, code samples, or explanations).\n",
    "    \"\"\"\n",
    "    # Example data: this can be replaced with actual database queries or document retrievals\n",
    "    relevant_info = {\n",
    "        \"Inheritance and Polymorphism\": \"In object-oriented programming, inheritance allows one class to inherit methods and properties from another class. Polymorphism allows objects of different classes to be treated as objects of a common superclass, typically using method overriding or interfaces.\",\n",
    "        \"common mistakes\": \"Common mistakes in polymorphism include not properly overriding methods, missing or incorrect constructor calls, and failure to handle edge cases such as null references.\"\n",
    "    }\n",
    "\n",
    "    # Return relevant information based on the query\n",
    "    return relevant_info.get(query, \"No relevant information found.\")"
   ],
   "metadata": {
    "collapsed": false
   }
  },
  {
   "cell_type": "code",
   "execution_count": 0,
   "outputs": [],
   "source": [
    "\n",
    "# Problem Generator Module (RAG-Enhanced)\n",
    "def generate_problem(topic):\n",
    "    \"\"\"\n",
    "    Generates a detailed Java programming problem in the specified OOP topic, enriched with relevant context.\n",
    "    \"\"\"\n",
    "    # Retrieve related information\n",
    "    relevant_info = retrieve_relevant_info(topic)\n",
    "\n",
    "    # Create the problem prompt enriched with retrieved info\n",
    "    problem_prompt = PromptTemplate(\n",
    "        input_variables=[\"topic\", \"relevant_info\"],\n",
    "        template=(\n",
    "            \"You are a Java programming instructor. Create a detailed programming problem in the area of {topic}. \"\n",
    "            \"Use the following information to help design the problem:\\n{relevant_info}\\n\"\n",
    "            \"Include a clear rubric, deliverables, and requirements. Make the problem challenging yet solvable for students.\"\n",
    "        )\n",
    "    )\n",
    "\n",
    "    # Set up the problem generation chain\n",
    "    problem_chain = LLMChain(llm=cohere_llm, prompt=problem_prompt)\n",
    "    return problem_chain.run(topic=topic, relevant_info=relevant_info)"
   ],
   "metadata": {
    "collapsed": false
   }
  },
  {
   "cell_type": "code",
   "execution_count": 0,
   "outputs": [],
   "source": [
    "\n",
    "# Code Evaluator Module (RAG-Enhanced)\n",
    "def evaluate_code(problem_statement, rubric, student_code):\n",
    "    \"\"\"\n",
    "    Evaluates the student's Java code against the problem statement and rubric, enriched with additional context.\n",
    "    \"\"\"\n",
    "    # Retrieve common mistakes related to the topic for context\n",
    "    common_mistakes = retrieve_relevant_info(\"common mistakes\")\n",
    "\n",
    "    # Create the evaluation prompt enriched with retrieved info\n",
    "    evaluation_prompt = PromptTemplate(\n",
    "        input_variables=[\"problem_statement\", \"rubric\", \"student_code\", \"common_mistakes\"],\n",
    "        template=(\n",
    "            \"You are a Java programming evaluator. The problem statement is as follows:\\n{problem_statement}\\n\\n\"\n",
    "            \"Rubric for evaluation:\\n{rubric}\\n\\n\"\n",
    "            \"The student's code submission is:\\n{student_code}\\n\\n\"\n",
    "            \"Common mistakes for this topic include:\\n{common_mistakes}\\n\\n\"\n",
    "            \"Provide a detailed evaluation based on the rubric, analyzing the correctness, design, and any improvements needed.\"\n",
    "        )\n",
    "    )\n",
    "\n",
    "    # Set up the evaluation chain\n",
    "    evaluation_chain = LLMChain(llm=cohere_llm, prompt=evaluation_prompt)\n",
    "    return evaluation_chain.run(problem_statement=problem_statement, rubric=rubric, student_code=student_code, common_mistakes=common_mistakes)"
   ],
   "metadata": {
    "collapsed": false
   }
  },
  {
   "cell_type": "code",
   "execution_count": 0,
   "outputs": [],
   "source": [
    "\n",
    "# Feedback Generator Module (RAG-Enhanced)\n",
    "def generate_feedback(evaluation):\n",
    "    \"\"\"\n",
    "    Generates constructive feedback for the student based on the evaluation, incorporating relevant context.\n",
    "    \"\"\"\n",
    "    # Retrieve relevant feedback context (this could be common improvement tips or best practices)\n",
    "    relevant_feedback_tips = retrieve_relevant_info(\"common mistakes\")\n",
    "\n",
    "    # Create the feedback prompt enriched with retrieved tips\n",
    "    feedback_prompt = PromptTemplate(\n",
    "        input_variables=[\"evaluation\", \"relevant_feedback_tips\"],\n",
    "        template=(\n",
    "            \"You are a Java programming instructor. Based on the following evaluation, generate constructive feedback \"\n",
    "            \"for the student. Focus on strengths, areas of improvement, and next steps for learning:\\n{evaluation}\\n\"\n",
    "            \"Use the following tips to help guide the student's learning:\\n{relevant_feedback_tips}\"\n",
    "        )\n",
    "    )\n",
    "\n",
    "    # Set up the feedback generation chain\n",
    "    feedback_chain = LLMChain(llm=cohere_llm, prompt=feedback_prompt)\n",
    "    return feedback_chain.run(evaluation=evaluation, relevant_feedback_tips=relevant_feedback_tips)"
   ],
   "metadata": {
    "collapsed": false
   }
  },
  {
   "cell_type": "code",
   "execution_count": 10,
   "outputs": [
    {
     "name": "stdout",
     "output_type": "stream",
     "text": [
      "Generated Problem:\n",
      " Here is a detailed programming problem along with a rubric, deliverables, and requirements for a Java class focusing on the concepts of Inheritance and Polymorphism:\n",
      "## Problem: Zoo Management System\n",
      "\n",
      "**Background:** \n",
      "You are developing a software system to manage animals and employees in a zoo. The zoo has a wide variety of animals, and you need to create a flexible and extensible system to handle their data and interactions. \n",
      "\n",
      "**Requirements:**\n",
      "Develop a Java program that utilizes inheritance and polymorphism to model the zoo management system. Your program should include the following:\n",
      "\n",
      "1. **Animals and Employees:**\n",
      "   - Create a superclass `LivingBeing` that stores common attributes like name, age, and health status. This superclass should also have methods like `eat()`, `move()`, and `getDescription()`.\n",
      "   - Define subclasses for specific types of animals (e.g., `Mammal`, `Bird`, `Reptile`) and employees (e.g., `Zookeeper`, `Vet`) that inherit from `LivingBeing`. Override appropriate methods and add new ones specific to each subclass.\n",
      "2. **Food and Movement:**\n",
      "   - Implement polymorphism for the `eat()` method. Different types of animals should eat different types of food (e..g\n",
      "Evaluation:\n",
      " Evaluation based on the provided rubric:\n",
      "1. Correct use of inheritance (30 points):\n",
      "   - The student's code demonstrates a good understanding of inheritance. They have created a superclass `Animal` and a subclass `Dog` that extends `Animal`. The `sound()` method is correctly overridden in the `Dog` class, exhibiting polymorphic behavior.\n",
      "   - The student correctly utilizes method overriding to provide specific implementations for the `sound()` method in both the superclass and subclass.\n",
      "\n",
      "2. Implementation of polymorphic behavior (30 points):\n",
      "   - The student effectively demonstrates polymorphic behavior in their code. In the `Main` class, an `Animal` reference variable (`obj`) is used to refer to a `Dog` object. When `obj.sound()` is called, the appropriate method in the `Dog` class is invoked due to polymorphism.\n",
      "   - This showcases the power of inheritance and dynamic method dispatch, earning full points in this category.\n",
      "\n",
      "3. Code readability and comments (20 points): \n",
      "   - The student's code is well-organized and follows a clear structure. The class and method names are descriptive, making the code self-explanatory. \n",
      "   - However, the code could benefit from some comments explaining the purpose of each class and method. A\n",
      "Feedback:\n",
      " Dear [Student Name], \n",
      "\n",
      "I've reviewed your Java code submission, and I'm pleased to provide you with some feedback based on the provided rubric. Overall, your understanding of inheritance and polymorphic behavior is evident, and you should be proud of the work you've accomplished. \n",
      "\n",
      "## Strengths:\n",
      "- **Correct Use of Inheritance (30/30)**: Well done! You've demonstrated a solid grasp of inheritance by creating a superclass `Animal` and a subclass `Dog`. The `sound()` method is effectively overridden in the `Dog` class, showcasing your understanding of polymorphism. This shows that you can create extensible and hierarchical relationships between classes, which is a cornerstone of object-oriented programming. \n",
      "- **Implementation of Polymorphic Behavior (30/30)**: Your code elegantly displays polymorphic behavior. By using an `Animal` reference variable (`obj`) to refer to a `Dog` object, you've exhibited the power of dynamic method dispatch. This is a key concept in Java, and you've applied it successfully. \n",
      "\n",
      "## Areas for Improvement:\n",
      "- **Code Readability and Comments (20/20)**: Your code is well-organized, structured, and easy to follow, which are essential qualities for maintainable software\n"
     ]
    }
   ],
   "source": [
    "\n",
    "# Example Workflow\n",
    "def main():\n",
    "    # Step 1: Generate a problem\n",
    "    topic = \"Inheritance and Polymorphism\"\n",
    "    problem = generate_problem(topic)\n",
    "    print(\"Generated Problem:\\n\", problem)\n",
    "\n",
    "    # Step 2: Rubric and student code (for testing purposes, these will be placeholders)\n",
    "    rubric = \"1. Correct use of inheritance (30 points).\\n2. Implementation of polymorphic behavior (30 points).\\n3. Code readability and comments (20 points).\\n4. Test cases and correctness (20 points).\"\n",
    "    student_code = \"\"\"\n",
    "    class Animal {\n",
    "        void sound() {\n",
    "            System.out.println(\"Animal makes a sound\");\n",
    "        }\n",
    "    }\n",
    "\n",
    "    class Dog extends Animal {\n",
    "        @Override\n",
    "        void sound() {\n",
    "            System.out.println(\"Dog barks\");\n",
    "        }\n",
    "    }\n",
    "\n",
    "    public class Main {\n",
    "        public static void main(String[] args) {\n",
    "            Animal obj = new Dog();\n",
    "            obj.sound();\n",
    "        }\n",
    "    }\n",
    "    \"\"\"\n",
    "\n",
    "    # Step 3: Evaluate the student's code\n",
    "    evaluation = evaluate_code(problem, rubric, student_code)\n",
    "    print(\"Evaluation:\\n\", evaluation)\n",
    "\n",
    "    # Step 4: Generate feedback\n",
    "    feedback = generate_feedback(evaluation)\n",
    "    print(\"Feedback:\\n\", feedback)\n",
    "\n",
    "if __name__ == \"__main__\":\n",
    "    main()\n"
   ],
   "metadata": {
    "collapsed": false
   }
  }
 ],
 "metadata": {
  "kernelspec": {
   "display_name": "Python 3",
   "language": "python",
   "name": "python3"
  },
  "language_info": {
   "codemirror_mode": {
    "name": "ipython",
    "version": 2
   },
   "file_extension": ".py",
   "mimetype": "text/x-python",
   "name": "python",
   "nbconvert_exporter": "python",
   "pygments_lexer": "ipython2",
   "version": "2.7.6"
  }
 },
 "nbformat": 4,
 "nbformat_minor": 0
}
