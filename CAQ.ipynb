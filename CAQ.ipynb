{
 "cells": [
  {
   "cell_type": "markdown",
   "source": [
    "#Create a Question Component - creates JAVA problems for practicing and evaluates and provides feedback for the same."
   ],
   "metadata": {
    "collapsed": false
   }
  },
  {
   "cell_type": "code",
   "execution_count": 3,
   "outputs": [],
   "source": [
    "from langchain.chains import LLMChain\n",
    "from langchain.prompts import PromptTemplate\n",
    "from langchain.llms.cohere import Cohere"
   ],
   "metadata": {
    "collapsed": false
   }
  },
  {
   "cell_type": "code",
   "execution_count": 4,
   "outputs": [],
   "source": [
    "# Initialize Cohere LLM\n",
    "cohere_llm = Cohere(cohere_api_key=\"##\", model=\"command-r-plus\")"
   ],
   "metadata": {
    "collapsed": false
   }
  },
  {
   "cell_type": "code",
   "execution_count": 6,
   "outputs": [],
   "source": [
    "# Problem Generator Module\n",
    "def generate_problem(topic):\n",
    "    \"\"\"\n",
    "    Generates a detailed Java programming problem in the specified OOP topic.\n",
    "    \"\"\"\n",
    "    problem_prompt = PromptTemplate(\n",
    "        input_variables=[\"topic\"],\n",
    "        template=(\n",
    "            \"You are a Java programming instructor. Create a detailed programming problem in the area of {topic}. \"\n",
    "            \"Include a clear rubric, deliverables, and requirements. Make the problem challenging yet solvable for students.\"\n",
    "        )\n",
    "    )\n",
    "    problem_chain = LLMChain(llm=cohere_llm, prompt=problem_prompt)\n",
    "    return problem_chain.run(topic=topic)"
   ],
   "metadata": {
    "collapsed": false
   }
  },
  {
   "cell_type": "code",
   "execution_count": 7,
   "outputs": [],
   "source": [
    "\n",
    "# Code Evaluator Module\n",
    "def evaluate_code(problem_statement, rubric, student_code):\n",
    "    \"\"\"\n",
    "    Evaluates the student's Java code against the problem statement and rubric.\n",
    "    \"\"\"\n",
    "    evaluation_prompt = PromptTemplate(\n",
    "        input_variables=[\"problem_statement\", \"rubric\", \"student_code\"],\n",
    "        template=(\n",
    "            \"You are a Java programming evaluator. The problem statement is as follows:\\n{problem_statement}\\n\\n\"\n",
    "            \"Rubric for evaluation:\\n{rubric}\\n\\n\"\n",
    "            \"The student's code submission is:\\n{student_code}\\n\\n\"\n",
    "            \"Provide a detailed evaluation based on the rubric. Analyze the correctness, design, and any improvements needed.\"\n",
    "        )\n",
    "    )\n",
    "    evaluation_chain = LLMChain(llm=cohere_llm, prompt=evaluation_prompt)\n",
    "    return evaluation_chain.run(problem_statement=problem_statement, rubric=rubric, student_code=student_code)"
   ],
   "metadata": {
    "collapsed": false
   }
  },
  {
   "cell_type": "code",
   "execution_count": 8,
   "outputs": [],
   "source": [
    "\n",
    "# Feedback Generator Module\n",
    "def generate_feedback(evaluation):\n",
    "    \"\"\"\n",
    "    Generates constructive feedback for the student based on the evaluation.\n",
    "    \"\"\"\n",
    "    feedback_prompt = PromptTemplate(\n",
    "        input_variables=[\"evaluation\"],\n",
    "        template=(\n",
    "            \"You are a Java programming instructor. Based on the following evaluation, generate constructive feedback \"\n",
    "            \"for the student. Focus on strengths, areas of improvement, and next steps for learning:\\n{evaluation}\"\n",
    "        )\n",
    "    )\n",
    "    feedback_chain = LLMChain(llm=cohere_llm, prompt=feedback_prompt)\n",
    "    return feedback_chain.run(evaluation=evaluation)"
   ],
   "metadata": {
    "collapsed": false
   }
  },
  {
   "cell_type": "code",
   "execution_count": 9,
   "outputs": [
    {
     "name": "stdout",
     "output_type": "stream",
     "text": [
      "Generated Problem:\n",
      " Problem: Shape Hierarchy and Polymorphism Challenge\n",
      "\n",
      "Rubric:\n",
      "1. Deliverables (50%):\n",
      "   - Students must provide a Java program that includes a superclass named \"Shape\" and at least three subclasses representing specific shapes (e.g., Circle, Triangle, Rectangle).\n",
      "   - Each subclass should override at least one method from the superclass and provide its own implementation.\n",
      "   - The program should demonstrate the use of polymorphism to perform calculations or display information about the shapes.\n",
      "   - Students will be assessed on the correctness of their code, the effectiveness of their class hierarchy, and the creative use of polymorphism.\n",
      "\n",
      "2. Quality of Code (20%):\n",
      "   - Code should be well-organized, use proper indentation, and follow naming conventions.\n",
      "   - Comments should be used to explain complex sections of code or algorithms.\n",
      "  Enseignant :\n",
      "   - Students must use inheritance effectively to create a hierarchical relationship between the superclass and subclasses.\n",
      "   - Code should be modular, with each class having a single responsibility.\n",
      "   - Students should demonstrate an understanding of method overriding and how it relates to polymorphism.\n",
      "\n",
      "3. Problem Solving (30%):\n",
      "   - The program should address a specific real-world problem or scenario involving shapes.\n",
      "   - Students\n",
      "Evaluation:\n",
      " Evaluation:\n",
      "1. Correct use of inheritance (30 points):\n",
      "   - The student has correctly used inheritance in their code submission. The \"Dog\" class extends the \"Animal\" class, inheriting its properties and methods. This demonstrates a clear hierarchical relationship between the superclass \"Animal\" and the subclass \"Dog.\" (30/30 points)\n",
      "\n",
      "2. Implementation of polymorphic behavior (30 points):\n",
      "   - The student has successfully implemented polymorphic behavior in the program. In the \"Main\" class, an object of type \"Animal\" is created, but it actually refers to an instance of its subclass \"Dog.\" This is a classic example of polymorphism in action. When the \"sound()\" method is called on the \"obj\" reference, the appropriate version of the method is executed based on the actual object type, resulting in \"Dog barks\" being printed. This demonstrates a good understanding of method overriding and polymorphism. (30/30 points)\n",
      "\n",
      "3. Code readability and comments (20 points):\n",
      "   - The code is well-organized and follows a clear structure. Proper indentation and naming conventions are used, making the code easy to read. However, comments are lacking in this submission. While the code is simple and straightforward, adding\n",
      "Feedback:\n",
      " Evaluation Feedback:\n",
      "\n",
      "Strengths:\n",
      "- Correct understanding and implementation of inheritance: You have demonstrated a clear understanding of inheritance, which is a fundamental concept in object-oriented programming. Your code shows that you know how to establish a hierarchical relationship between classes and how to utilize inheritance to share and extend functionality. This is evident in your \"Dog\" subclass inheriting from the \"Animal\" superclass.\n",
      "- Successful demonstration of polymorphism: You have successfully implemented polymorphism in your program, which is another key aspect of object-oriented programming. The example you provided with the \"sound()\" method showcases your understanding of method overriding and dynamic method dispatch. The program's behavior depends on the actual type of object referenced, and you have correctly utilized this concept to achieve polymorphic behavior.\n",
      "\n",
      "Areas of Improvement:\n",
      "- Enhance code documentation with comments: While your code structure, indentation, and naming conventions are commendable, remember that code documentation is essential for collaboration and future reference. Comments help explain complex code sections, provide context, and make the code more accessible to other programmers (and yourself in the future). Even in simple code, comments can clarify the purpose of specific sections or methods.\n",
      "- Explore abstract classes and interfaces: To further enhance your understanding of inheritance and polymorphism,\n"
     ]
    }
   ],
   "source": [
    "# Example Workflow\n",
    "def main():\n",
    "    # Step 1: Generate a problem\n",
    "    topic = \"Inheritance and Polymorphism\"\n",
    "    problem = generate_problem(topic)\n",
    "    print(\"Generated Problem:\\n\", problem)\n",
    "\n",
    "    # Step 2: Rubric and student code (for testing purposes, these will be placeholders)\n",
    "    rubric = \"1. Correct use of inheritance (30 points).\\n2. Implementation of polymorphic behavior (30 points).\\n3. Code readability and comments (20 points).\\n4. Test cases and correctness (20 points).\"\n",
    "    student_code = \"\"\"\n",
    "    class Animal {\n",
    "        void sound() {\n",
    "            System.out.println(\"Animal makes a sound\");\n",
    "        }\n",
    "    }\n",
    "\n",
    "    class Dog extends Animal {\n",
    "        @Override\n",
    "        void sound() {\n",
    "            System.out.println(\"Dog barks\");\n",
    "        }\n",
    "    }\n",
    "\n",
    "    public class Main {\n",
    "        public static void main(String[] args) {\n",
    "            Animal obj = new Dog();\n",
    "            obj.sound();\n",
    "        }\n",
    "    }\n",
    "    \"\"\"\n",
    "\n",
    "    # Step 3: Evaluate the student's code\n",
    "    evaluation = evaluate_code(problem, rubric, student_code)\n",
    "    print(\"Evaluation:\\n\", evaluation)\n",
    "\n",
    "    # Step 4: Generate feedback\n",
    "    feedback = generate_feedback(evaluation)\n",
    "    print(\"Feedback:\\n\", feedback)\n",
    "\n",
    "if __name__ == \"__main__\":\n",
    "    main()"
   ],
   "metadata": {
    "collapsed": false
   }
  },
  {
   "cell_type": "code",
   "execution_count": null,
   "outputs": [],
   "source": [],
   "metadata": {
    "collapsed": false
   }
  }
 ],
 "metadata": {
  "kernelspec": {
   "display_name": "Python 3",
   "language": "python",
   "name": "python3"
  },
  "language_info": {
   "codemirror_mode": {
    "name": "ipython",
    "version": 2
   },
   "file_extension": ".py",
   "mimetype": "text/x-python",
   "name": "python",
   "nbconvert_exporter": "python",
   "pygments_lexer": "ipython2",
   "version": "2.7.6"
  }
 },
 "nbformat": 4,
 "nbformat_minor": 0
}
